{
  "nbformat": 4,
  "nbformat_minor": 0,
  "metadata": {
    "colab": {
      "name": "Lectorium_1.ipynb",
      "provenance": [],
      "collapsed_sections": [],
      "authorship_tag": "ABX9TyPyq/98o28k56MjOmBRLJ1P",
      "include_colab_link": true
    },
    "kernelspec": {
      "name": "python3",
      "display_name": "Python 3"
    },
    "language_info": {
      "name": "python"
    }
  },
  "cells": [
    {
      "cell_type": "markdown",
      "metadata": {
        "id": "view-in-github",
        "colab_type": "text"
      },
      "source": [
        "<a href=\"https://colab.research.google.com/github/kap2fox/Intro-to-Robotics/blob/main/Lectorium_1.ipynb\" target=\"_parent\"><img src=\"https://colab.research.google.com/assets/colab-badge.svg\" alt=\"Open In Colab\"/></a>"
      ]
    },
    {
      "cell_type": "markdown",
      "metadata": {
        "id": "aCl3ylM1aghO"
      },
      "source": [
        "#Физика двигателя EV3\n",
        "Друзья, мы с вами уже получили из основных фундаментальных законов физики уравнение для описания двигателя постоянного тока: $$\\dot\\omega+\\frac{k_m k_e}{JR}\\omega=\\frac{k_m}{JR}U. \\tag{1}$$ Это дифференциальное уравнение при известных начальных условиях имеет однозначное решение. Давайте попробуем решить его при помощи инструментов языка Python. Но для начала стоит сделать замену констант, чтобы упростить вычисления и сократить выражение. Введем электромеханическую константу: $$T_m=\\frac{JR}{k_e k_m}.\\tag{2}$$ Далее введем все необходимые параметры в рабочее пространство."
      ]
    },
    {
      "cell_type": "code",
      "metadata": {
        "id": "mi7W8Hw8QrX5"
      },
      "source": [
        "import sympy                                  # импорт модуля символьных вычислений sympy                        \n",
        "U, T_m, t = sympy.symbols(\"U, T_m, t\")        # обозначение символов переменных напряжения, постоянной времени и самого времени\n",
        "k_e = sympy.symbols(\"k_e\",positive=True)      # конструктивная постоянная, должна быть положительной для однозначного решения уравнения\n",
        "omega = sympy.Function(\"omega\")               # обозначение функции угловой скорости"
      ],
      "execution_count": null,
      "outputs": []
    },
    {
      "cell_type": "markdown",
      "metadata": {
        "id": "OR5gloLaipz_"
      },
      "source": [
        "Мы импортировали необходимую нам библиотеку SymPy для выполнения символьных вычислений и описали все переменные, которые используются в уравнении 1 после подстановки замены констант 2. Теперь мы можем описать дифференциальное уравнение, указав зависимость скорости от времени: $$\\dot\\omega(t)=\\frac{d}{dt}\\omega=\\frac{U}{T_m k_e}-\\frac{\\omega(t)}{T_m}. \\tag{3}$$\n",
        "![ev3_servo](https://drive.google.com/file/d/1JLRhjYYNCn-4TaXcBTbsw6f_xz_G_Fih/view?usp=sharing)"
      ]
    },
    {
      "cell_type": "code",
      "metadata": {
        "colab": {
          "base_uri": "https://localhost:8080/",
          "height": 55
        },
        "id": "G-hGdqj8imdk",
        "outputId": "c90edcea-9f17-40c4-8045-bfa184953809"
      },
      "source": [
        "ode = sympy.Eq( omega(t).diff(t), U/(k_e*T_m) - omega(t)/T_m)   # задание дифференциального уравнения двигателя\n",
        "ode"
      ],
      "execution_count": null,
      "outputs": [
        {
          "output_type": "execute_result",
          "data": {
            "text/latex": "$\\displaystyle \\frac{d}{d t} \\omega{\\left(t \\right)} = \\frac{U}{T_{m} k_{e}} - \\frac{\\omega{\\left(t \\right)}}{T_{m}}$",
            "text/plain": [
              "Eq(Derivative(omega(t), t), U/(T_m*k_e) - omega(t)/T_m)"
            ]
          },
          "metadata": {},
          "execution_count": 2
        }
      ]
    },
    {
      "cell_type": "markdown",
      "metadata": {
        "id": "9bmTsAvPYJsu"
      },
      "source": [
        "Также мы точно знаем, что в начальный момент времени двигатель не вращается, и угол поворота равен нулю. Начальным условием для двигателя в момент времени $t=0[sec]$ будет угловая скорость $\\omega=0[rad/sec]$."
      ]
    },
    {
      "cell_type": "code",
      "metadata": {
        "colab": {
          "base_uri": "https://localhost:8080/",
          "height": 60
        },
        "id": "XcVtiQOxoPtX",
        "outputId": "c6ce34bc-a2c5-43c3-e837-b48ea883ad71"
      },
      "source": [
        "ode_sol = sympy.dsolve(ode, omega(t), ics={omega(0):0})         # решение дифференциального уравнения с нулевыми начальными условиями\n",
        "ode_sol"
      ],
      "execution_count": null,
      "outputs": [
        {
          "output_type": "execute_result",
          "data": {
            "text/latex": "$\\displaystyle \\omega{\\left(t \\right)} = \\frac{U - U e^{- \\frac{t}{T_{m}}}}{k_{e}}$",
            "text/plain": [
              "Eq(omega(t), (U - U*exp(-t/T_m))/k_e)"
            ]
          },
          "metadata": {},
          "execution_count": 4
        }
      ]
    },
    {
      "cell_type": "markdown",
      "metadata": {
        "id": "AftouVAxw6fD"
      },
      "source": [
        "Мы получили аналитическое решение дифференциального уравнения при заданных начальных условиях. Также можно разбить полученную дробь на две части для наглядности постоянной части уравнения и ее экспоненциальной части."
      ]
    },
    {
      "cell_type": "code",
      "metadata": {
        "colab": {
          "base_uri": "https://localhost:8080/",
          "height": 60
        },
        "id": "-IhBZjoqAORo",
        "outputId": "cd54e96e-e2e7-41dd-8e09-cdcd68d78221"
      },
      "source": [
        "ode_sol = sympy.expand(ode_sol)                                 # упрощение результата решения\n",
        "ode_sol"
      ],
      "execution_count": null,
      "outputs": [
        {
          "output_type": "execute_result",
          "data": {
            "text/latex": "$\\displaystyle \\omega{\\left(t \\right)} = \\frac{U}{k_{e}} - \\frac{U e^{- \\frac{t}{T_{m}}}}{k_{e}}$",
            "text/plain": [
              "Eq(omega(t), U/k_e - U*exp(-t/T_m)/k_e)"
            ]
          },
          "metadata": {},
          "execution_count": 5
        }
      ]
    },
    {
      "cell_type": "markdown",
      "metadata": {
        "id": "taKM-w5dxwm6"
      },
      "source": [
        "Теперь у нас есть полноценное уравнение угловой скорости вращения двигателя постоянного тока, и мы можем изобразить его график. Я подставлю приблизительные показания постоянных двигателя Lego EV3, $T_m=0.08[sec]$,  $\\ k_e=0.5[V*sec/rad]$,  $\\ U=8[V]$."
      ]
    },
    {
      "cell_type": "code",
      "metadata": {
        "colab": {
          "base_uri": "https://localhost:8080/",
          "height": 38
        },
        "id": "Q0NnklmmCJdS",
        "outputId": "235f8389-3d2c-46f4-8d33-02eeb48d0868"
      },
      "source": [
        "ode_num = ode_sol.subs({k_e : 0.5, T_m : 0.08, U : 8})          # подстановка числовых значений в уравнение\n",
        "ode_num"
      ],
      "execution_count": null,
      "outputs": [
        {
          "output_type": "execute_result",
          "data": {
            "text/latex": "$\\displaystyle \\omega{\\left(t \\right)} = 16.0 - 16.0 e^{- 12.5 t}$",
            "text/plain": [
              "Eq(omega(t), 16.0 - 16.0*exp(-12.5*t))"
            ]
          },
          "metadata": {},
          "execution_count": 6
        }
      ]
    },
    {
      "cell_type": "markdown",
      "metadata": {
        "id": "59U31sELzb2k"
      },
      "source": [
        "Теперь без проблем можно изобразить кривую разгона двигателя."
      ]
    },
    {
      "cell_type": "code",
      "metadata": {
        "colab": {
          "base_uri": "https://localhost:8080/",
          "height": 269
        },
        "id": "yE0IAYYGWKUT",
        "outputId": "cea473a1-9c51-4ad2-8f48-0118a46bc529"
      },
      "source": [
        "from sympy.plotting import plot                                 # импорт функции изображения графиков\n",
        "plot(ode_num.rhs,(t, 0, 0.5), line_color='red', \n",
        "     title='Разгон двинателя',xlabel = 'time,[sec]',\n",
        "     ylabel = 'speed, [rad/sec]')                               # изображение графика с различными настройками"
      ],
      "execution_count": null,
      "outputs": [
        {
          "output_type": "display_data",
          "data": {
            "image/png": "[encoded data removed]",
            "text/plain": [
              "<Figure size 432x288 with 1 Axes>"
            ]
          },
          "metadata": {
            "needs_background": "light"
          }
        },
        {
          "output_type": "execute_result",
          "data": {
            "text/plain": [
              "<sympy.plotting.plot.Plot at 0x7ff2fbafbcd0>"
            ]
          },
          "metadata": {},
          "execution_count": 7
        }
      ]
    },
    {
      "cell_type": "markdown",
      "metadata": {
        "id": "Z4aNkRZcztZ0"
      },
      "source": [
        "Двигатель Lego EV3 имеет датчик угла поворота двигателя, оптический энкодер. Поэтому для работы с моделью двигателя нам понадобится угол поворота, а не угловая скорость. И мы можем получить ее, взяв интеграл от угловой скорости по времени в промежутке от 0 до текущего времени t."
      ]
    },
    {
      "cell_type": "code",
      "metadata": {
        "colab": {
          "base_uri": "https://localhost:8080/",
          "height": 60
        },
        "id": "F8DJJap-jF6c",
        "outputId": "26d615bb-c1cb-4d59-da8a-8cb940832398"
      },
      "source": [
        "theta_eq = sympy.integrate(ode_sol.rhs,(t,0,t))                 # интегрирование правой части уравнения угловой скорости\n",
        "theta_eq"
      ],
      "execution_count": null,
      "outputs": [
        {
          "output_type": "execute_result",
          "data": {
            "text/latex": "$\\displaystyle - \\frac{T_{m} U}{k_{e}} + \\frac{T_{m} U e^{- \\frac{t}{T_{m}}}}{k_{e}} + \\frac{U t}{k_{e}}$",
            "text/plain": [
              "-T_m*U/k_e + T_m*U*exp(-t/T_m)/k_e + U*t/k_e"
            ]
          },
          "metadata": {},
          "execution_count": 7
        }
      ]
    },
    {
      "cell_type": "markdown",
      "metadata": {
        "id": "LURq8pkD1E8G"
      },
      "source": [
        "Также уравнение угла поворота двигателя можно получить, решив дифференциальное уравнение относительно угла поворота $\\omega=\\dot\\theta$, то есть $$\\ddot\\theta=\\frac{U}{T_m k_e}-\\frac{\\dot\\theta}{T_m}.  \\tag{4}$$ При этом начальные условия также сохраняются, в момент времени $t = 0[sec]$ угол поворота двигателя равен $\\theta = 0[rad]$ и угловая скорость $\\dot\\theta = 0[rad]$. Ниже проведем проверку результата интегрирования на предыдущем шаге, обратите внимание, как задается начальное условие $\\dot\\theta(0)=0$:"
      ]
    },
    {
      "cell_type": "code",
      "metadata": {
        "colab": {
          "base_uri": "https://localhost:8080/",
          "height": 60
        },
        "id": "TsoDyfqEiLWu",
        "outputId": "7fab64ab-8fbb-4585-e74d-aee65b85d212"
      },
      "source": [
        "theta = sympy.Function(\"theta\")                                                 # задание функции угла поворота\n",
        "ode_theta = sympy.Eq( theta(t).diff(t,2), - theta(t).diff(t)/T_m + U/(k_e*T_m)) # задание дифференциального уравнения\n",
        "ode_sol_theta = sympy.dsolve(ode_theta, theta(t), \n",
        "                             ics={theta(0):0, theta(t).diff(t).subs(t,0): 0})   # решение дифференциального уравнения\n",
        "ode_sol_theta"
      ],
      "execution_count": null,
      "outputs": [
        {
          "output_type": "execute_result",
          "data": {
            "text/latex": "$\\displaystyle \\theta{\\left(t \\right)} = - \\frac{T_{m} U}{k_{e}} + \\frac{T_{m} U e^{- \\frac{t}{T_{m}}}}{k_{e}} + \\frac{U t}{k_{e}}$",
            "text/plain": [
              "Eq(theta(t), -T_m*U/k_e + T_m*U*exp(-t/T_m)/k_e + U*t/k_e)"
            ]
          },
          "metadata": {
            "tags": []
          },
          "execution_count": 5
        }
      ]
    },
    {
      "cell_type": "markdown",
      "metadata": {
        "id": "zQQBp59Y2Cmi"
      },
      "source": [
        "Последним шагом изобразим график угла поворота двигателя, чтобы в дальнейшем сравнить его с реальными показаниями."
      ]
    },
    {
      "cell_type": "code",
      "metadata": {
        "colab": {
          "base_uri": "https://localhost:8080/",
          "height": 315
        },
        "id": "BIN2S_RgZj6q",
        "outputId": "2bdbd3d6-f0c2-4ea1-8409-3e6d33c7f145"
      },
      "source": [
        "theta_num = ode_sol_theta.subs({k_e : 0.5, T_m : 0.08, U : 8})                  # подстановка численных значений\n",
        "plot(theta_num.rhs,(t, 0, 0.5), line_color='red', \n",
        "     title='Угол поворота двигателя',\n",
        "     xlabel = 'time,[sec]', ylabel = 'angle, [rad]')                            # изображение графика"
      ],
      "execution_count": null,
      "outputs": [
        {
          "output_type": "display_data",
          "data": {
            "image/png": "[encoded data removed]",
            "text/plain": [
              "<Figure size 432x288 with 1 Axes>"
            ]
          },
          "metadata": {
            "tags": [],
            "needs_background": "light"
          }
        },
        {
          "output_type": "execute_result",
          "data": {
            "text/plain": [
              "<sympy.plotting.plot.Plot at 0x7f342eefa8d0>"
            ]
          },
          "metadata": {
            "tags": []
          },
          "execution_count": 13
        }
      ]
    }
  ]
}