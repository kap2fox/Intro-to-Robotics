{
  "nbformat": 4,
  "nbformat_minor": 0,
  "metadata": {
    "colab": {
      "name": "Lektorium_4.ipynb",
      "provenance": [],
      "authorship_tag": "ABX9TyMPgOxUYGFnt2BvrjpLL7Zz",
      "include_colab_link": true
    },
    "kernelspec": {
      "name": "python3",
      "display_name": "Python 3"
    },
    "language_info": {
      "name": "python"
    }
  },
  "cells": [
    {
      "cell_type": "markdown",
      "metadata": {
        "id": "view-in-github",
        "colab_type": "text"
      },
      "source": [
        "<a href=\"https://colab.research.google.com/github/kap2fox/Intro-to-Robotics/blob/main/Lektorium_4.ipynb\" target=\"_parent\"><img src=\"https://colab.research.google.com/assets/colab-badge.svg\" alt=\"Open In Colab\"/></a>"
      ]
    },
    {
      "cell_type": "code",
      "metadata": {
        "id": "Q-2KAS9LcCU4"
      },
      "source": [
        "import numpy as np                                  # модуль для поддержки многомерных массивов\n",
        "import matplotlib.pyplot as plt                     # модуль для визуализации данных\n",
        "from scipy.integrate import odeint                  # модуль для оптимизации функций\n",
        "import math as m                                    # модуль для математических функций"
      ],
      "execution_count": null,
      "outputs": []
    },
    {
      "cell_type": "code",
      "metadata": {
        "id": "L4ariMUoc7AC"
      },
      "source": [
        "T_m = 0.08                                          # электромеханическая постоянная времени\n",
        "k_e = 0.5                                           # конструктивная постоянная двигателя\n",
        "n = 15001                                           # количество шагов моделирования\n",
        "t = np.linspace(0,15,n)                             # задание пространства времени, массив n элементов значениями от 0 до 15 секунд\n",
        "B = 0.15                                            # расстояние между колесами\n",
        "r = 0.026                                           # радиус колеса"
      ],
      "execution_count": null,
      "outputs": []
    },
    {
      "cell_type": "code",
      "metadata": {
        "id": "-TgAVbAsdEZJ"
      },
      "source": [
        "def motor(state,t,u):\n",
        "    speed, angle = state                            # обозначение состояния двигателя как скорости и угла поворота\n",
        "    state_dt = [-speed/T_m + u/ (T_m * k_e), speed ]# задание производной состояния двигателя\n",
        "    return state_dt"
      ],
      "execution_count": null,
      "outputs": []
    },
    {
      "cell_type": "markdown",
      "metadata": {
        "id": "75UQBQPkdFMh"
      },
      "source": [
        "Для модели двухколесного робота с дифференциальным приводом или \"differential drive robot\" потребуется управляющее напряжение на каждый двигатель, а также массивы для пройденного пути, угла поворота робота и координат."
      ]
    },
    {
      "cell_type": "code",
      "metadata": {
        "id": "Kg8k1IVDdIDc"
      },
      "source": [
        "state_l = [0 , 0]                                   # переменная состояния левого двигателя\n",
        "state_r = [0 , 0]                                   # переменная состояния правого двигателя\n",
        "control_l = np.zeros(n)                             # массив управляющего напряжение левого двигателя\n",
        "control_r = np.zeros(n)                             # массив управляющего напряжение правого двигателя\n",
        "theta_l = np.zeros(n)                               # массив углов поворота левого двигателя\n",
        "theta_r = np.zeros(n)                               # массив углов поворота правого двигателя\n",
        "x = np.zeros(n)                                     # массив X координат робота\n",
        "y = np.zeros(n)                                     # массив Y координат робота\n",
        "path = np.zeros(n)                                  # массив пройденного пути\n",
        "psi = np.zeros(n)                                   # массив курсовых углов робота\n"
      ],
      "execution_count": null,
      "outputs": []
    },
    {
      "cell_type": "markdown",
      "metadata": {
        "id": "HU4SYCdfdJEe"
      },
      "source": [
        "Основной цикл, как и вслучае с ПИД-регулятором, будет включать в себя вычисление углов поворота двигателя и координат робота. Для расчета координат робота необходима следующая система уравнений, где $L$ - пройденный роботом, $\\psi$ - курсовой угол робота:\n",
        "$$\n",
        "\\left\\{\n",
        "    \\begin{array}\\\\\n",
        "        x = x + \\Delta L \\, \\cos(\\psi), \\\\\n",
        "        y = y + \\Delta L \\, \\sin(\\psi), \\\\\n",
        "        \\psi = (\\theta_r-\\theta_l)\\frac{r}{B}.\n",
        "    \\end{array} \\tag{6}\n",
        "\\right.\n",
        "$$\n",
        "Для простого случая движения двухколесного робота можно подать разное напряжение на двигатели и увидеть круговую траекторию, начинающуюся в точке [0, 0]."
      ]
    },
    {
      "cell_type": "code",
      "metadata": {
        "id": "kMREmxsKkhy6",
        "colab": {
          "base_uri": "https://localhost:8080/",
          "height": 300
        },
        "outputId": "599f55e8-cd1f-472d-e1cd-b2259534d953"
      },
      "source": [
        "for i in range(1,n):\n",
        "\n",
        "    path[i] = (theta_r[i-1] + theta_l[i-1]) * r / 2                             # вычисление пройденного пути\n",
        "    psi[i] = (theta_r[i-1] - theta_l[i-1]) * r / B                              # вычисление курсового угла\n",
        "    x[i] = x[i-1] + (path[i]-path[i-1]) * m.cos(psi[i])                         # вычисление координаты X\n",
        "    y[i] = y[i-1] + (path[i]-path[i-1]) * m.sin(psi[i])                         # вычисление координаты Y\n",
        "\n",
        "    control_l [i] = 2                                                           # задание управляющего напряжения левого двигателя\n",
        "    control_r [i] = 3                                                           # задание управляющего напряжение правого двигателя\n",
        "\n",
        "    motor_l = odeint(motor, state_l,[t[i-1],t[i]],args=(control_l [i],))        # вычисление угла поворота левого двигателя\n",
        "    state_l = motor_l[1,:]                                                      # запоминание состояния левого двигателя \n",
        "    theta_l[i] = motor_l[1,1]                                                   # сохранение угла поворота левого двигателя\n",
        "    motor_r = odeint(motor, state_r,[t[i-1],t[i]],args=(control_r [i],))        # вычисление угла поворота правого двигателя\n",
        "    state_r = motor_r[1,:]                                                      # запоминание состояния правого двигателя \n",
        "    theta_r[i] = motor_r[1,1]                                                   # сохранение угла поворота правого двигателя\n",
        "\n",
        "plt.plot(x, y)                                                                  # отрисовка результатов"
      ],
      "execution_count": null,
      "outputs": [
        {
          "output_type": "stream",
          "name": "stdout",
          "text": [
            "[ 4.   59.68]\n"
          ]
        },
        {
          "output_type": "execute_result",
          "data": {
            "text/plain": [
              "[<matplotlib.lines.Line2D at 0x7fb35796e8d0>]"
            ]
          },
          "metadata": {},
          "execution_count": 5
        },
        {
          "output_type": "display_data",
          "data": {
            "image/png": "[encoded data removed]",
            "text/plain": [
              "<Figure size 432x288 with 1 Axes>"
            ]
          },
          "metadata": {
            "needs_background": "light"
          }
        }
      ]
    }
  ]
}