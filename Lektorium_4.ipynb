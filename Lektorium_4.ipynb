{
  "nbformat": 4,
  "nbformat_minor": 0,
  "metadata": {
    "colab": {
      "name": "Lektorium_4.ipynb",
      "provenance": [],
      "authorship_tag": "ABX9TyP1ln6ulOmUjCSNRh7PTu5Q",
      "include_colab_link": true
    },
    "kernelspec": {
      "name": "python3",
      "display_name": "Python 3"
    },
    "language_info": {
      "name": "python"
    }
  },
  "cells": [
    {
      "cell_type": "markdown",
      "metadata": {
        "id": "view-in-github",
        "colab_type": "text"
      },
      "source": [
        "<a href=\"https://colab.research.google.com/github/kap2fox/Intro-to-Robotics/blob/main/Lektorium_4.ipynb\" target=\"_parent\"><img src=\"https://colab.research.google.com/assets/colab-badge.svg\" alt=\"Open In Colab\"/></a>"
      ]
    },
    {
      "cell_type": "markdown",
      "metadata": {
        "id": "dHe252HLcBle"
      },
      "source": [
        "# Моделирование движения\n",
        "После того как мы получили модель вращения двигателя и связали управляющее напряжение с углом поворота двигателя, можно приступить к моделированию простых роботов. Для простейшего случая мы можем считать, что датчики измерения угла поворота двигателя не имеют помех измерения. Далее рассматривается двухколесный робот, который из углов поворота двигателей определяет собственное положение в пространстве, и описывается координатами на плоскости и углом поворота. Нам потребуется модуль *numpy* для работы с массивами значений, *matplotlib* для отрисовки результатов, *scipy* для численного решения дифференциальных уравнений и *math* для математических нелинейных функций."
      ]
    },
    {
      "cell_type": "code",
      "metadata": {
        "id": "Q-2KAS9LcCU4"
      },
      "source": [
        "import numpy as np                                  # модуль для поддержки многомерных массивов\n",
        "import matplotlib.pyplot as plt                     # модуль для визуализации данных\n",
        "from scipy.integrate import odeint                  # модуль для оптимизации функций\n",
        "import math as m                                    # модуль для математических функций"
      ],
      "execution_count": null,
      "outputs": []
    },
    {
      "cell_type": "markdown",
      "metadata": {
        "id": "lMRAGs7Vcytn"
      },
      "source": [
        "Для задания робота достаточно всего двух параметров - расстояния между колесами и радиус самого колеса. Параметры двигателя берутся из результатов идентификации, пространство времени и количество шагов моделирования выбираются для 15 секунд."
      ]
    },
    {
      "cell_type": "code",
      "metadata": {
        "id": "L4ariMUoc7AC"
      },
      "source": [
        "T_m = 0.08                                          # электромеханическая постоянная времени\n",
        "k_e = 0.5                                           # конструктивная постоянная двигателя\n",
        "n = 15001                                           # количество шагов моделирования\n",
        "t = np.linspace(0,15,n)                             # задание пространства времени, массив n элементов значениями от 0 до 15 секунд\n",
        "B = 0.15                                            # расстояние между колесами\n",
        "r = 0.026                                           # радиус колеса"
      ],
      "execution_count": null,
      "outputs": []
    },
    {
      "cell_type": "markdown",
      "metadata": {
        "id": "GSMgOm8pc9Qn"
      },
      "source": [
        "Для моделирования работы двигателя используется модель из предыдищих опытов, на выходе которой будут угловая скорость и угол поворота двигателя."
      ]
    },
    {
      "cell_type": "code",
      "metadata": {
        "id": "-TgAVbAsdEZJ"
      },
      "source": [
        "def motor(state,t,u):\n",
        "    speed, angle = state                            # обозначение состояния двигателя как скорости и угла поворота\n",
        "    state_dt = [-speed/T_m + u/ (T_m * k_e), speed ]# задание производной состояния двигателя\n",
        "    return state_dt"
      ],
      "execution_count": null,
      "outputs": []
    },
    {
      "cell_type": "markdown",
      "metadata": {
        "id": "75UQBQPkdFMh"
      },
      "source": [
        "Для модели двухколесного робота с дифференциальным приводом или \"differential drive robot\" потребуется управляющее напряжение на каждый двигатель, а также массивы для пройденного пути, угла поворота робота и координат."
      ]
    },
    {
      "cell_type": "code",
      "metadata": {
        "id": "Kg8k1IVDdIDc"
      },
      "source": [
        "state_l = [0 , 0]                                   # переменная состояния левого двигателя\n",
        "state_r = [0 , 0]                                   # переменная состояния правого двигателя\n",
        "control_l = np.zeros(n)                             # массив управляющего напряжение левого двигателя\n",
        "control_r = np.zeros(n)                             # массив управляющего напряжение правого двигателя\n",
        "theta_l = np.zeros(n)                               # массив углов поворота левого двигателя\n",
        "theta_r = np.zeros(n)                               # массив углов поворота правого двигателя\n",
        "x = np.zeros(n)                                     # массив X координат робота\n",
        "y = np.zeros(n)                                     # массив Y координат робота\n",
        "path = np.zeros(n)                                  # массив пройденного пути\n",
        "course = np.zeros(n)                                # массив курсовых углов робота\n"
      ],
      "execution_count": null,
      "outputs": []
    },
    {
      "cell_type": "markdown",
      "metadata": {
        "id": "HU4SYCdfdJEe"
      },
      "source": [
        "Основной цикл, как и вслучае с ПИД-регулятором, будет включать в себя вычисление углов поворота двигателя и координат робота. Для расчета координат робота необходима следующая система уравнений, где $L$ - пройденный роботом, $\\alpha$ - курсовой угол робота:\n",
        "$$\n",
        "\\left\\{\n",
        "    \\begin{array}\\\\\n",
        "        x = x + \\Delta L \\, \\cos(\\alpha), \\\\\n",
        "        y = y + \\Delta L \\, \\cos(\\alpha), \\\\\n",
        "        \\alpha = (\\theta_r-\\theta_l)\\frac{r}{B}.\n",
        "    \\end{array} \\tag{6}\n",
        "\\right.\n",
        "$$\n",
        "Для простого случая движения двухколесного робота можно подать разное напряжение на двигатели и увидеть круговую траекторию, начинающуюся в точке [0, 0]."
      ]
    },
    {
      "cell_type": "code",
      "metadata": {
        "id": "kMREmxsKkhy6",
        "colab": {
          "base_uri": "https://localhost:8080/",
          "height": 283
        },
        "outputId": "e1fad628-7c03-4969-887e-a6f3a9cb3fcb"
      },
      "source": [
        "for i in range(1,n):\n",
        "\n",
        "    path[i] = (theta_r[i-1] + theta_l[i-1]) * r / 2                             # вычисление пройденного пути\n",
        "    course[i] = (theta_r[i-1] - theta_l[i-1]) * r / B                           # вычисление курсового угла\n",
        "    x[i] = x[i-1] + (path[i]-path[i-1]) * m.cos(course[i])                      # вычисление координаты X\n",
        "    y[i] = y[i-1] + (path[i]-path[i-1]) * m.sin(course[i])                      # вычисление координаты Y\n",
        "\n",
        "    control_l [i] = 2                                                           # задание управляющего напряжения левого двигателя\n",
        "    control_r [i] = 3                                                           # задание управляющего напряжение правого двигателя\n",
        "\n",
        "    motor_l = odeint(motor, state_l,[t[i-1],t[i]],args=(control_l [i],))        # вычисление угла поворота левого двигателя\n",
        "    state_l = motor_l[1,:]                                                      # запоминание состояния левого двигателя \n",
        "    theta_l[i] = motor_l[1,1]                                                   # сохранение угла поворота левого двигателя\n",
        "    motor_r = odeint(motor, state_r,[t[i-1],t[i]],args=(control_r [i],))        # вычисление угла поворота правого двигателя\n",
        "    state_r = motor_r[1,:]                                                      # запоминание состояния правого двигателя \n",
        "    theta_r[i] = motor_r[1,1]                                                   # сохранение угла поворота правого двигателя\n",
        "\n",
        "plt.plot(x, y)                                                                  # отрисовка результатов"
      ],
      "execution_count": null,
      "outputs": [
        {
          "output_type": "execute_result",
          "data": {
            "text/plain": [
              "[<matplotlib.lines.Line2D at 0x7f2efd5e9b10>]"
            ]
          },
          "metadata": {},
          "execution_count": 51
        },
        {
          "output_type": "display_data",
          "data": {
            "image/png": "[encoded data removed]",
            "text/plain": [
              "<Figure size 432x288 with 1 Axes>"
            ]
          },
          "metadata": {
            "needs_background": "light"
          }
        }
      ]
    }
  ]
}