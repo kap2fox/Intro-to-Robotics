{
  "nbformat": 4,
  "nbformat_minor": 0,
  "metadata": {
    "colab": {
      "name": "Lektorium_3.ipynb",
      "provenance": [],
      "authorship_tag": "ABX9TyMS7DiJ/w1O2sLw801c+idV",
      "include_colab_link": true
    },
    "kernelspec": {
      "name": "python3",
      "display_name": "Python 3"
    },
    "language_info": {
      "name": "python"
    }
  },
  "cells": [
    {
      "cell_type": "markdown",
      "metadata": {
        "id": "view-in-github",
        "colab_type": "text"
      },
      "source": [
        "<a href=\"https://colab.research.google.com/github/kap2fox/Intro-to-Robotics/blob/main/PID_control_3.ipynb\" target=\"_parent\"><img src=\"https://colab.research.google.com/assets/colab-badge.svg\" alt=\"Open In Colab\"/></a>"
      ]
    },
    {
      "cell_type": "markdown",
      "metadata": {
        "id": "W8DVGqwMpDFS"
      },
      "source": [
        "#ПИД на Python\n",
        "Эта часть посвящена моделированию работы двигателя при добавлении закона управления. На каждом шаге работы программы, как и в реальном роботе, происходит расчет управляющего напряжения. Как расчитывать управляющее напряжение - вопрос крайне обширный, который рассматривает теория автоматического управления. Базовым алгоритмом управления является **пропорционально-интегрально-дифференциальный регулятор** или ПИД-регулятор. Далее рассматривается его программная реализация."
      ]
    },
    {
      "cell_type": "code",
      "metadata": {
        "id": "ZAhgEGazpFBn"
      },
      "source": [
        "import numpy as np                            # модуль для поддержки многомерных массивов\n",
        "import matplotlib.pyplot as plt               # модуль для визуализации данных\n",
        "from scipy.integrate import odeint            # подключение функции численного решения дифференциальных уравнений"
      ],
      "execution_count": null,
      "outputs": []
    },
    {
      "cell_type": "markdown",
      "metadata": {
        "id": "GtKMDgWGpHi7"
      },
      "source": [
        "Для начала требуется определить параметры модели двигателя. В прошлый раз мы использовали значение времени, записанное в файл. В этот раз нам потребуется задать пространство времени самостоятельно. Для этого подойдет функция *linspace* из модуля *numpy*."
      ]
    },
    {
      "cell_type": "code",
      "metadata": {
        "id": "VCSxmDPrpIEb"
      },
      "source": [
        "T_m = 0.08                                   # электромеханическая постоянная двигателя\n",
        "k_e = 0.5                                    # конструктивная постоянная \n",
        "n = 5001                                     # количество шагов моделирования\n",
        "t = np.linspace(0,5,n)                       # задание пространства времени, массив n элементов значениями от 0 до 5"
      ],
      "execution_count": null,
      "outputs": []
    },
    {
      "cell_type": "markdown",
      "metadata": {
        "id": "N7UIDPw6pNEX"
      },
      "source": [
        "Далее необходимо задать модель двигателя по аналогии с предыдущей лекцией системой уравнений 5, с отличием в том, что теперь значение управляющего напряжения будет передаваться в модель на каждом шаге моделирования:\n",
        "$$\n",
        "\\left\\{\n",
        "    \\begin{array}\\\\\n",
        "        \\dot\\omega=\\frac{U}{T_m k_e}-\\frac{\\omega}{T_m}, \\\\\n",
        "        \\dot\\theta=\\omega. \n",
        "    \\end{array} \\tag{5}\n",
        "\\right.\n",
        "$$"
      ]
    },
    {
      "cell_type": "code",
      "metadata": {
        "id": "MFjhsy_jpNni"
      },
      "source": [
        "def motor(state,t,u):\n",
        "    speed, angle = state                                # обозначение состояния двигателя как скорости и угла поворота\n",
        "    state_dt = [-speed/T_m + u/ (T_m * k_e), speed ]    # задание производной состояния двигателя\n",
        "    return state_dt"
      ],
      "execution_count": null,
      "outputs": []
    },
    {
      "cell_type": "markdown",
      "metadata": {
        "id": "lo6TYxRKpQMR"
      },
      "source": [
        "Для моделирование работы ПИД-регулятора понадобится определение переменных и массивов значений регулятора. Чтобы иметь возможность посмотреть на поведение каждого из компонентов регулятора, нужно задать массивы нулей для каждого из них функцией *zeros*."
      ]
    },
    {
      "cell_type": "code",
      "metadata": {
        "id": "edPN5rPspWWs"
      },
      "source": [
        "Kp = 1                                                   # пропорциональный коэффициент\n",
        "Ki = 0.3                                                 # интегральный коэффициент\n",
        "Kd = 0.2                                                 # дифференциальный коэффициент\n",
        "P= np.zeros(n)                                           # пропорциональная компонента\n",
        "I = np.zeros(n)                                          # интегральная компонента\n",
        "D = np.zeros(n)                                          # дифференциальная компонента\n",
        "e = np.zeros(n)                                          # массив ошибок\n",
        "control = np.zeros(n)                                    # управляющее воздействие\n",
        "theta = np.zeros(n)                                      # массив углов поворота \n",
        "setpoint = np.zeros(n)                                   # заданный угол поворота \n",
        "setpoint[0:n] = 5                                       # задание угла поворота в 10 радиан\n",
        "init = [0 , 0]                                           # начальные условия моделирования\n"
      ],
      "execution_count": null,
      "outputs": []
    },
    {
      "cell_type": "markdown",
      "metadata": {
        "id": "RwtoDW-Bpexl"
      },
      "source": [
        "Теперь нужно создать цикл на количество шагов моделирования и на каждой итерации вычислять значения состояния двигателя. Для этого мы воспользуемся функцией *odeint*, но моделировать будем только один шаг *(t[i-1],t[i])*. При этом каждый шаг будет начинаться с предыдущих ненулевых начальных условий *init* и учитывать текущее управляющее напряжение *control*."
      ]
    },
    {
      "cell_type": "code",
      "metadata": {
        "colab": {
          "base_uri": "https://localhost:8080/",
          "height": 283
        },
        "id": "C2Fz50JIlsh0",
        "outputId": "bc9e439f-1756-4d48-b5f4-95a0c5386495"
      },
      "source": [
        "for i in range(1,n):\n",
        "    ts = [t[i-1],t[i]]                                   # задаем значение времени для моделирования\n",
        "    state = odeint(motor,init,ts,args=(control[i-1],))   # вычисляем значения скорости и угла поворота\n",
        "    #odeint возвращает две пары значений угла и скорости для моментов времени t[i-1] и t[i]\n",
        "    init = state[1,:]                                    # запоминаем последние значения состояния двигателя\n",
        "    theta[i] = state[1,1]                                # присваиваем текущий угол поворота\n",
        "    e[i] = setpoint[i] - theta[i]                        # вычисляем ошибку между текущим и заданным значением угла поворота\n",
        "    dt = t[i] - t[i-1]                                   # вычисляем значение изменения таймера, временного шага\n",
        "    P[i] = Kp * e[i]                                     # вычисляем пропорциональную компоненту\n",
        "    I[i] = I[i-1] + Ki * e[i] * dt                       # вычисляем интегральную компоненту методом Эйлера\n",
        "    D[i] = Kd * (theta[i]-theta[i-1])/dt                 # вычисляем дифференциальную компоненту методом конечных разностей\n",
        "    control[i] = P[i] + I[i] + D[i]                      # вычисляем управляющее напряжение - сумма всех компонент\n",
        "    if control[i] > 8:\n",
        "            control[i] = 8\n",
        "    if control[i] < -8:\n",
        "            control[i] = -8                              # ограничиваем значения управляющего напряжения\n",
        "\n",
        "\n",
        "plt.plot(t, theta,'r-')                                  # изображаем график поведения системы\n",
        "plt.plot(t, setpoint,'b--')                              # изображаем требуемый угол поворота"
      ],
      "execution_count": null,
      "outputs": [
        {
          "output_type": "execute_result",
          "data": {
            "text/plain": [
              "[<matplotlib.lines.Line2D at 0x7f6420b48910>]"
            ]
          },
          "metadata": {},
          "execution_count": 27
        },
        {
          "output_type": "display_data",
          "data": {
            "image/png": "[encoded data removed]",
            "text/plain": [
              "<Figure size 432x288 with 1 Axes>"
            ]
          },
          "metadata": {
            "needs_background": "light"
          }
        }
      ]
    }
  ]
}