{
  "nbformat": 4,
  "nbformat_minor": 0,
  "metadata": {
    "colab": {
      "name": "Lektorium_5.ipynb",
      "provenance": [],
      "authorship_tag": "ABX9TyPaMZTlc7UrjkxuSKKv7HzG",
      "include_colab_link": true
    },
    "kernelspec": {
      "name": "python3",
      "display_name": "Python 3"
    },
    "language_info": {
      "name": "python"
    }
  },
  "cells": [
    {
      "cell_type": "markdown",
      "metadata": {
        "id": "view-in-github",
        "colab_type": "text"
      },
      "source": [
        "<a href=\"https://colab.research.google.com/github/kap2fox/Intro-to-Robotics/blob/main/Robot_Navigation.ipynb\" target=\"_parent\"><img src=\"https://colab.research.google.com/assets/colab-badge.svg\" alt=\"Open In Colab\"/></a>"
      ]
    },
    {
      "cell_type": "markdown",
      "metadata": {
        "id": "7He0UkcuWQhD"
      },
      "source": [
        "Подключаем необходимы библиотеки."
      ]
    },
    {
      "cell_type": "code",
      "metadata": {
        "id": "cv4xXXicWAe2"
      },
      "source": [
        "import numpy as np\n",
        "import matplotlib.pyplot as plt\n",
        "from scipy.integrate import odeint\n",
        "import math as m"
      ],
      "execution_count": 1,
      "outputs": []
    },
    {
      "cell_type": "markdown",
      "metadata": {
        "id": "JFnCLTtMWQ5A"
      },
      "source": [
        "Задаем параметры и время."
      ]
    },
    {
      "cell_type": "code",
      "metadata": {
        "id": "MVb6DnmtWFdd"
      },
      "source": [
        "T_m = 0.08\n",
        "k_e = 0.5\n",
        "n = 15001\n",
        "t = np.linspace(0,15,n) # create time vector\n",
        "B = 0.15\n",
        "r = 0.026"
      ],
      "execution_count": 2,
      "outputs": []
    },
    {
      "cell_type": "markdown",
      "metadata": {
        "id": "1dA-7WCQXlHZ"
      },
      "source": [
        "Описываем модель двигателя."
      ]
    },
    {
      "cell_type": "code",
      "metadata": {
        "id": "VRgszDKdWICi"
      },
      "source": [
        "def motor(state,t,u):\n",
        "    speed, angle = state\n",
        "    state_dt = [-speed/T_m + u/ (T_m * k_e), speed ]\n",
        "    return state_dt"
      ],
      "execution_count": 3,
      "outputs": []
    },
    {
      "cell_type": "markdown",
      "metadata": {
        "id": "2W1ylLTmXqTi"
      },
      "source": [
        "Указывавем начальные значения переменных."
      ]
    },
    {
      "cell_type": "code",
      "metadata": {
        "id": "XH5c13QxWK1s"
      },
      "source": [
        "state_l = [0 , 0]\n",
        "state_r = [0 , 0]\n",
        "control_l = np.zeros(n)\n",
        "control_r = np.zeros(n)\n",
        "theta_l = np.zeros(n)\n",
        "theta_r = np.zeros(n)\n",
        "x = np.zeros(n)\n",
        "y = np.zeros(n)\n",
        "path = np.zeros(n)\n",
        "course = np.zeros(n)\n",
        "distance = np.zeros(n)\n",
        "bearing = np.zeros(n)\n",
        "courseAngle = np.zeros(n)\n",
        "X_ref = -1\n",
        "Y_ref = 0\n",
        "distance [0] = m.sqrt((X_ref)**2+(Y_ref)**2)\n",
        "bearing [0] = m.atan2(Y_ref,X_ref)\n"
      ],
      "execution_count": 4,
      "outputs": []
    },
    {
      "cell_type": "markdown",
      "metadata": {
        "id": "0_MbMXB7XRUK"
      },
      "source": [
        "Запускаем основной цикл езды."
      ]
    },
    {
      "cell_type": "code",
      "metadata": {
        "id": "kMREmxsKkhy6",
        "colab": {
          "base_uri": "https://localhost:8080/",
          "height": 285
        },
        "outputId": "fa97cf44-fc57-4bd7-d328-07230765ae47"
      },
      "source": [
        "for i in range(1,n):\n",
        "\n",
        "    path[i] = (theta_r[i-1] + theta_l[i-1]) * r / 2\n",
        "    course[i] = (theta_r[i-1] - theta_l[i-1]) * r / B\n",
        "    x[i] = x[i-1] + (path[i]-path[i-1]) * m.cos(course[i])\n",
        "    y[i] = y[i-1] + (path[i]-path[i-1]) * m.sin(course[i])\n",
        "    distance [i] = m.sqrt((X_ref - x[i])**2+(Y_ref - y[i])**2)\n",
        "    bearing [i] = m.atan2(Y_ref - y[i],X_ref - x[i])\n",
        "    courseAngle [i] = bearing [i] - course [i]\n",
        "    if courseAngle[i] > np.pi:\n",
        "            courseAngle[i] = courseAngle[i] - 2 * np.pi\n",
        "    if courseAngle[i] < -np.pi:\n",
        "            courseAngle[i] = courseAngle[i] + 2 * np.pi\n",
        "\n",
        "    #control_l [i] = 6 * np.cos (courseAngle [i]) * np.tanh(distance [i]) - 2 * (courseAngle [i])\n",
        "    #control_r [i] = 6 * np.cos (courseAngle [i]) * np.tanh(distance [i]) + 2 * (courseAngle [i])\n",
        "    control_l [i] = 4 * distance [i] - 4 * courseAngle [i]\n",
        "    control_r [i] = 4 * distance [i] + 4 * courseAngle [i]\n",
        "    if control_l[i] > 8:\n",
        "            control_l[i] = 8\n",
        "    if control_l[i] < -8:\n",
        "            control_l[i] = -8\n",
        "    if control_r[i] > 8:\n",
        "            control_r[i] = 8\n",
        "    if control_r[i] < -8:\n",
        "            control_r[i] = -8\n",
        "\n",
        "    motor_l = odeint(motor, state_l,[t[i-1],t[i]],args=(control_l [i],))\n",
        "    state_l = motor_l[1,:]\n",
        "    theta_l[i] = motor_l[1,1]\n",
        "    motor_r = odeint(motor, state_r,[t[i-1],t[i]],args=(control_r [i],))\n",
        "    state_r = motor_r[1,:]\n",
        "    theta_r[i] = motor_r[1,1]\n",
        "    \n",
        "plt.plot(x, y)"
      ],
      "execution_count": 5,
      "outputs": [
        {
          "output_type": "execute_result",
          "data": {
            "text/plain": [
              "[<matplotlib.lines.Line2D at 0x7fcac084ce50>]"
            ]
          },
          "metadata": {},
          "execution_count": 5
        },
        {
          "output_type": "display_data",
          "data": {
            "image/png": "[encoded data removed]",
            "text/plain": [
              "<Figure size 432x288 with 1 Axes>"
            ]
          },
          "metadata": {
            "needs_background": "light"
          }
        }
      ]
    }
  ]
}