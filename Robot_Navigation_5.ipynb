{
  "nbformat": 4,
  "nbformat_minor": 0,
  "metadata": {
    "colab": {
      "name": "Lektorium_5.ipynb",
      "provenance": [],
      "authorship_tag": "ABX9TyPa325cWpZBEZjqpHZrCF3p",
      "include_colab_link": true
    },
    "kernelspec": {
      "name": "python3",
      "display_name": "Python 3"
    },
    "language_info": {
      "name": "python"
    }
  },
  "cells": [
    {
      "cell_type": "markdown",
      "metadata": {
        "id": "view-in-github",
        "colab_type": "text"
      },
      "source": [
        "<a href=\"https://colab.research.google.com/github/kap2fox/Intro-to-Robotics/blob/main/Robot_Navigation_5.ipynb\" target=\"_parent\"><img src=\"https://colab.research.google.com/assets/colab-badge.svg\" alt=\"Open In Colab\"/></a>"
      ]
    },
    {
      "cell_type": "markdown",
      "metadata": {
        "id": "7He0UkcuWQhD"
      },
      "source": [
        "# Моделируем движение в точку\n",
        "Подключаем необходимы библиотеки."
      ]
    },
    {
      "cell_type": "code",
      "metadata": {
        "id": "cv4xXXicWAe2"
      },
      "source": [
        "import numpy as np                                  # модуль для поддержки многомерных массивов\n",
        "import matplotlib.pyplot as plt                     # модуль для визуализации данных\n",
        "from scipy.integrate import odeint                  # модуль для оптимизации функций\n",
        "import math as m                                    # модуль для математических функций"
      ],
      "execution_count": null,
      "outputs": []
    },
    {
      "cell_type": "markdown",
      "metadata": {
        "id": "JFnCLTtMWQ5A"
      },
      "source": [
        "Задаем параметры и время."
      ]
    },
    {
      "cell_type": "code",
      "metadata": {
        "id": "MVb6DnmtWFdd"
      },
      "source": [
        "T_m = 0.08                                          # электромеханическая постоянная времени\n",
        "k_e = 0.5                                           # конструктивная постоянная двигателя\n",
        "n = 15001                                           # количество шагов моделирования\n",
        "t = np.linspace(0,15,n)                             # задание пространства времени, массив n элементов значениями от 0 до 15 секунд\n",
        "B = 0.15                                            # расстояние между колесами\n",
        "r = 0.026                                           # радиус колеса"
      ],
      "execution_count": null,
      "outputs": []
    },
    {
      "cell_type": "markdown",
      "metadata": {
        "id": "1dA-7WCQXlHZ"
      },
      "source": [
        "Описываем модель двигателя."
      ]
    },
    {
      "cell_type": "code",
      "metadata": {
        "id": "VRgszDKdWICi"
      },
      "source": [
        "def motor(state,t,u):\n",
        "    speed, angle = state                            # обозначение состояния двигателя как скорости и угла поворота\n",
        "    state_dt = [-speed/T_m + u/ (T_m * k_e), speed ]# задание производной состояния двигателя\n",
        "    return state_dt"
      ],
      "execution_count": null,
      "outputs": []
    },
    {
      "cell_type": "markdown",
      "metadata": {
        "id": "2W1ylLTmXqTi"
      },
      "source": [
        "Указывавем начальные значения переменных."
      ]
    },
    {
      "cell_type": "code",
      "metadata": {
        "id": "XH5c13QxWK1s"
      },
      "source": [
        "state_l = [0 , 0]                                   # переменная состояния левого двигателя\n",
        "state_r = [0 , 0]                                   # переменная состояния правого двигателя\n",
        "control_l = np.zeros(n)                             # массив управляющего напряжение левого двигателя\n",
        "control_r = np.zeros(n)                             # массив управляющего напряжение правого двигателя\n",
        "theta_l = np.zeros(n)                               # массив углов поворота левого двигателя\n",
        "theta_r = np.zeros(n)                               # массив углов поворота правого двигателя\n",
        "x = np.zeros(n)                                     # массив X координат робота\n",
        "y = np.zeros(n)                                     # массив Y координат робота\n",
        "path = np.zeros(n)                                  # массив пройденного пути\n",
        "course = np.zeros(n)                                # массив значений курса робота\n",
        "distance = np.zeros(n)                              # массив пройденной дистанции\n",
        "bearing = np.zeros(n)                               # массив углов пеленга робота\n",
        "courseAngle = np.zeros(n)                           # массив курсовых углов \n",
        "X_ref = -1                                          # координата X точки назначения\n",
        "Y_ref = -1                                          # координата Y точки назначения\n",
        "distance [0] = m.sqrt((X_ref)**2+(Y_ref)**2)        # задание начального значения дистанции\n",
        "bearing [0] = m.atan2(Y_ref,X_ref)                  # задание начального значения пеленга"
      ],
      "execution_count": null,
      "outputs": []
    },
    {
      "cell_type": "markdown",
      "metadata": {
        "id": "0_MbMXB7XRUK"
      },
      "source": [
        "В целом, эта программа повторяет предыдущий вариант с вычислением местоположения робота, но здесь мы добавляем управляющее воздействие для движение в заданную точку. Для этого есть большое количество вариантов решения от простого П-регулятора до нелинейного закона управления. Можно решить эту здачу алгоритмически, снача повернуться на цель, а потом двигаться вперед, все зависит от контекста и окружающих препятствий."
      ]
    },
    {
      "cell_type": "code",
      "metadata": {
        "id": "kMREmxsKkhy6",
        "colab": {
          "base_uri": "https://localhost:8080/",
          "height": 283
        },
        "outputId": "819c590a-a8a0-43ee-923e-4501de6c9fc8"
      },
      "source": [
        "for i in range(1,n):\n",
        "\n",
        "    path[i] = (theta_r[i-1] + theta_l[i-1]) * r / 2                             # вычисление пройденного пути\n",
        "    course[i] = (theta_r[i-1] - theta_l[i-1]) * r / B                           # вычисление угла поворота робота, его курса\n",
        "    x[i] = x[i-1] + (path[i]-path[i-1]) * m.cos(course[i])                      # вычисление укоординаты X\n",
        "    y[i] = y[i-1] + (path[i]-path[i-1]) * m.sin(course[i])                      # вычисление укоординаты Y\n",
        "    distance [i] = m.sqrt((X_ref - x[i])**2+(Y_ref - y[i])**2)                  # вычисление расстояния до цели\n",
        "    bearing [i] = m.atan2(Y_ref - y[i],X_ref - x[i])                            # вычисление угла на цель, пеленга\n",
        "    courseAngle [i] = bearing [i] - course [i]                                  # вычисление курсового угла\n",
        "    if courseAngle[i] > np.pi:\n",
        "            courseAngle[i] = courseAngle[i] - 2 * np.pi\n",
        "    if courseAngle[i] < -np.pi:\n",
        "            courseAngle[i] = courseAngle[i] + 2 * np.pi                         # приведение курсового угла в диапазон [-pi, pi]\n",
        "\n",
        "    #control_l [i] = 6 * np.cos (courseAngle [i]) * np.tanh(distance [i]) - 2 * (courseAngle [i])\n",
        "    #control_r [i] = 6 * np.cos (courseAngle [i]) * np.tanh(distance [i]) + 2 * (courseAngle [i])\n",
        "    control_l [i] = 4 * distance [i] - 4 * courseAngle [i]                      # вычисление управляющего напряжения левого двигателя\n",
        "    control_r [i] = 4 * distance [i] + 4 * courseAngle [i]                      # вычисление управляющего напряжения правого двигателя\n",
        "    if control_l[i] > 8:\n",
        "            control_l[i] = 8\n",
        "    if control_l[i] < -8:\n",
        "            control_l[i] = -8\n",
        "    if control_r[i] > 8:\n",
        "            control_r[i] = 8\n",
        "    if control_r[i] < -8:\n",
        "            control_r[i] = -8                                                   # ограничение диапазона управляющего напряжения\n",
        "\n",
        "    motor_l = odeint(motor, state_l,[t[i-1],t[i]],args=(control_l [i],))        # вычисление угла поворота левого двигателя\n",
        "    state_l = motor_l[1,:]                                                      # запоминание состояния левого двигателя \n",
        "    theta_l[i] = motor_l[1,1]                                                   # сохранение угла поворота левого двигателя\n",
        "    motor_r = odeint(motor, state_r,[t[i-1],t[i]],args=(control_r [i],))        # вычисление угла поворота правого двигателя\n",
        "    state_r = motor_r[1,:]                                                      # запоминание состояния правого двигателя \n",
        "    theta_r[i] = motor_r[1,1]                                                   # сохранение угла поворота правого двигателя\n",
        "    \n",
        "plt.plot(x, y)"
      ],
      "execution_count": null,
      "outputs": [
        {
          "output_type": "execute_result",
          "data": {
            "text/plain": [
              "[<matplotlib.lines.Line2D at 0x7fa22cdc6790>]"
            ]
          },
          "metadata": {},
          "execution_count": 6
        },
        {
          "output_type": "display_data",
          "data": {
            "image/png": "[encoded data removed]",
            "text/plain": [
              "<Figure size 432x288 with 1 Axes>"
            ]
          },
          "metadata": {
            "needs_background": "light"
          }
        }
      ]
    }
  ]
}