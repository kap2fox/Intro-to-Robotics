{
  "nbformat": 4,
  "nbformat_minor": 0,
  "metadata": {
    "colab": {
      "provenance": [],
      "authorship_tag": "ABX9TyPAN2UC0I41bAe9Vk/CQngi",
      "include_colab_link": true
    },
    "kernelspec": {
      "name": "python3",
      "display_name": "Python 3"
    },
    "language_info": {
      "name": "python"
    }
  },
  "cells": [
    {
      "cell_type": "markdown",
      "metadata": {
        "id": "view-in-github",
        "colab_type": "text"
      },
      "source": [
        "<a href=\"https://colab.research.google.com/github/kap2fox/Intro-to-Robotics/blob/main/eng_DC_motor_1.ipynb\" target=\"_parent\"><img src=\"https://colab.research.google.com/assets/colab-badge.svg\" alt=\"Open In Colab\"/></a>"
      ]
    },
    {
      "cell_type": "markdown",
      "metadata": {
        "id": "aCl3ylM1aghO"
      },
      "source": [
        "#DC motor modeling\n",
        "Here is equation for a DC motor modeling with the basic fundamental laws of physics, as Faraday's Law of Electromagnetic Induction, Ampère's Law, Newton's Second Law, Kirchhoff's Voltage Law: $$\\dot\\omega+\\frac{k_m k_e}{JR}\\omega=\\frac{k_m}{JR}U. \\tag{1}$$ This differential equation, given known initial conditions, has a unique solution. Let us attempt to solve it using Python tools. However, before proceeding, it is worth simplifying the calculations and reducing the expression by substituting constants. We introduce the electromechanical constant: $$T_m=\\frac{JR}{k_e k_m}.\\tag{2}$$ Next, we will input all necessary parameters into the environment."
      ]
    },
    {
      "cell_type": "code",
      "metadata": {
        "id": "mi7W8Hw8QrX5"
      },
      "source": [
        "import sympy                                  # simbolic computations sympy\n",
        "U, T_m, t = sympy.symbols(\"U,T_m,t\")       # symbols of voltage, time constant and current time\n",
        "k_e = sympy.symbols(\"k_e\",positive=True)      # constructive constant, must be positive for a unique solution of the differential equation\n",
        "omega = sympy.Function(\"omega\")               # angular velocity function"
      ],
      "execution_count": null,
      "outputs": []
    },
    {
      "cell_type": "markdown",
      "metadata": {
        "id": "OR5gloLaipz_"
      },
      "source": [
        "We have imported the SymPy library for symbolic computations and described all the variables used in equation (1) after substituting the constant replacement (2). Now, we can describe the differential equation by specifying the dependence of speed on time: $$\\dot\\omega(t)=\\frac{d}{dt}\\omega=\\frac{U}{T_m k_e}-\\frac{\\omega(t)}{T_m}. \\tag{3}$$"
      ]
    },
    {
      "cell_type": "code",
      "metadata": {
        "colab": {
          "base_uri": "https://localhost:8080/",
          "height": 55
        },
        "id": "G-hGdqj8imdk",
        "outputId": "45d542ab-e977-4d1a-aeb5-e874c308591f"
      },
      "source": [
        "ode = sympy.Eq( omega(t).diff(t), U/(k_e*T_m) - omega(t)/T_m)   # description of the differential equation of a DC motor\n",
        "ode"
      ],
      "execution_count": null,
      "outputs": [
        {
          "output_type": "execute_result",
          "data": {
            "text/plain": [
              "Eq(Derivative(omega(t), t), U/(T_m*k_e) - omega(t)/T_m)"
            ],
            "text/latex": "$\\displaystyle \\frac{d}{d t} \\omega{\\left(t \\right)} = \\frac{U}{T_{m} k_{e}} - \\frac{\\omega{\\left(t \\right)}}{T_{m}}$"
          },
          "metadata": {},
          "execution_count": 4
        }
      ]
    },
    {
      "cell_type": "markdown",
      "metadata": {
        "id": "9bmTsAvPYJsu"
      },
      "source": [
        "At the initial moment in time, the engine is not rotating, and the rotation angle is zero. The initial condition for the engine at time $t=0\\ [sec]$ will be an angular velocity of $\\omega=0\\ [rad/sec]$."
      ]
    },
    {
      "cell_type": "code",
      "metadata": {
        "colab": {
          "base_uri": "https://localhost:8080/",
          "height": 60
        },
        "id": "XcVtiQOxoPtX",
        "outputId": "207e5435-92f4-47d8-816e-e1b6c5640165"
      },
      "source": [
        "ode_sol = sympy.dsolve(ode, omega(t), ics={omega(0):0})         # ODE solution with zero initial conditions\n",
        "ode_sol"
      ],
      "execution_count": null,
      "outputs": [
        {
          "output_type": "execute_result",
          "data": {
            "text/plain": [
              "Eq(omega(t), U/k_e - U*exp(-t/T_m)/k_e)"
            ],
            "text/latex": "$\\displaystyle \\omega{\\left(t \\right)} = \\frac{U}{k_{e}} - \\frac{U e^{- \\frac{t}{T_{m}}}}{k_{e}}$"
          },
          "metadata": {},
          "execution_count": 5
        }
      ]
    },
    {
      "cell_type": "markdown",
      "metadata": {
        "id": "AftouVAxw6fD"
      },
      "source": [
        "Revealing a fractional value."
      ]
    },
    {
      "cell_type": "code",
      "metadata": {
        "colab": {
          "base_uri": "https://localhost:8080/",
          "height": 60
        },
        "id": "-IhBZjoqAORo",
        "outputId": "746d0568-b63a-4058-eaa6-bb39f989d592"
      },
      "source": [
        "ode_sol = sympy.expand(ode_sol)                                 # simplification of the solution result\n",
        "ode_sol"
      ],
      "execution_count": null,
      "outputs": [
        {
          "output_type": "execute_result",
          "data": {
            "text/plain": [
              "Eq(omega(t), U/k_e - U*exp(-t/T_m)/k_e)"
            ],
            "text/latex": "$\\displaystyle \\omega{\\left(t \\right)} = \\frac{U}{k_{e}} - \\frac{U e^{- \\frac{t}{T_{m}}}}{k_{e}}$"
          },
          "metadata": {},
          "execution_count": 6
        }
      ]
    },
    {
      "cell_type": "markdown",
      "metadata": {
        "id": "taKM-w5dxwm6"
      },
      "source": [
        "Equation for the angular velocity of a DC motor is completed. We substitute the approximate constants of the DC motor to plot it, $T_m=0.08 [sec]$, $\\ k_e=0.5 [V*sec/rad]$, $\\ U=8 [V]$."
      ]
    },
    {
      "cell_type": "code",
      "metadata": {
        "colab": {
          "base_uri": "https://localhost:8080/",
          "height": 39
        },
        "id": "Q0NnklmmCJdS",
        "outputId": "26209a7a-720f-4398-a042-c3c8ea6879f8"
      },
      "source": [
        "ode_num = ode_sol.subs({k_e : 0.5, T_m : 0.08, U : 8})          # substitution of numerical values ​​into the equation\n",
        "ode_num"
      ],
      "execution_count": null,
      "outputs": [
        {
          "output_type": "execute_result",
          "data": {
            "text/plain": [
              "Eq(omega(t), 16.0 - 16.0*exp(-12.5*t))"
            ],
            "text/latex": "$\\displaystyle \\omega{\\left(t \\right)} = 16.0 - 16.0 e^{- 12.5 t}$"
          },
          "metadata": {},
          "execution_count": 7
        }
      ]
    },
    {
      "cell_type": "markdown",
      "metadata": {
        "id": "59U31sELzb2k"
      },
      "source": [
        "Displaying the engine acceleration curve."
      ]
    },
    {
      "cell_type": "code",
      "metadata": {
        "colab": {
          "base_uri": "https://localhost:8080/",
          "height": 503
        },
        "id": "yE0IAYYGWKUT",
        "outputId": "166a7f9d-c051-4240-89e7-a7c3f438bb3d"
      },
      "source": [
        "from sympy.plotting import plot                                 # plot for sympy\n",
        "plot(ode_num.rhs,(t, 0, 0.5), line_color='red',\n",
        "     title='DC motor acceleration curve',xlabel = 'time,[sec]',\n",
        "     ylabel = 'speed, [rad/sec]')                               # ODE solution plot at time [0; 0.5]"
      ],
      "execution_count": null,
      "outputs": [
        {
          "output_type": "display_data",
          "data": {
            "text/plain": [
              "<Figure size 640x480 with 1 Axes>"
            ],
            "image/png": "[encoded data removed]"
          },
          "metadata": {}
        },
        {
          "output_type": "execute_result",
          "data": {
            "text/plain": [
              "<sympy.plotting.backends.matplotlibbackend.matplotlib.MatplotlibBackend at 0x7c26a940e2d0>"
            ]
          },
          "metadata": {},
          "execution_count": 8
        }
      ]
    },
    {
      "cell_type": "markdown",
      "metadata": {
        "id": "Z4aNkRZcztZ0"
      },
      "source": [
        "the DC motor has a rotation angle sensor, an optical encoder, for example. Therefore, to work with the motor model, we need the rotation angle, not the angular velocity. You can get it by taking the integral of the angular velocity over time in the interval from 0 to the current time t."
      ]
    },
    {
      "cell_type": "code",
      "metadata": {
        "colab": {
          "base_uri": "https://localhost:8080/",
          "height": 60
        },
        "id": "F8DJJap-jF6c",
        "outputId": "38e4a190-0579-48c4-a3fa-888d38540b43"
      },
      "source": [
        "theta_eq = sympy.integrate(ode_sol.rhs,(t,0,t))                 # integration of the right side of the angular velocity equation\n",
        "theta_eq"
      ],
      "execution_count": null,
      "outputs": [
        {
          "output_type": "execute_result",
          "data": {
            "text/plain": [
              "-T_m*U/k_e + T_m*U*exp(-t/T_m)/k_e + U*t/k_e"
            ],
            "text/latex": "$\\displaystyle - \\frac{T_{m} U}{k_{e}} + \\frac{T_{m} U e^{- \\frac{t}{T_{m}}}}{k_{e}} + \\frac{U t}{k_{e}}$"
          },
          "metadata": {},
          "execution_count": 9
        }
      ]
    },
    {
      "cell_type": "markdown",
      "metadata": {
        "id": "LURq8pkD1E8G"
      },
      "source": [
        "Also, the equation of the rotation angle can be obtained by solving the differential equation for the rotation angle $\\omega=\\dot\\theta$, that is,$$\\ddot\\theta=\\frac{U}{T_m k_e}-\\frac{\\dot\\theta}{T_m}.  \\tag{4}$$ In this case, the initial conditions are the same, at the time $t = 0[sec]$ the engine rotation angle is $\\theta = 0[rad]$ and the angular velocity $\\dot\\theta = 0[rad]$. Next, we will check the integration result at the previous step for the initial condition $\\dot\\theta(0)=0$:"
      ]
    },
    {
      "cell_type": "code",
      "metadata": {
        "colab": {
          "base_uri": "https://localhost:8080/",
          "height": 60
        },
        "id": "TsoDyfqEiLWu",
        "outputId": "0b2231b2-6b24-42fd-8135-0d47cf7065a9"
      },
      "source": [
        "theta = sympy.Function(\"theta\")                                                 # creation of the rotation angle function\n",
        "ode_theta = sympy.Eq( theta(t).diff(t,2), - theta(t).diff(t)/T_m + U/(k_e*T_m)) # ODE description\n",
        "ode_sol_theta = sympy.dsolve(ode_theta, theta(t),\n",
        "                             ics={theta(0):0, theta(t).diff(t).subs(t,0): 0})   # ODE solution\n",
        "ode_sol_theta"
      ],
      "execution_count": null,
      "outputs": [
        {
          "output_type": "execute_result",
          "data": {
            "text/plain": [
              "Eq(theta(t), -T_m*U/k_e + T_m*U*exp(-t/T_m)/k_e + U*t/k_e)"
            ],
            "text/latex": "$\\displaystyle \\theta{\\left(t \\right)} = - \\frac{T_{m} U}{k_{e}} + \\frac{T_{m} U e^{- \\frac{t}{T_{m}}}}{k_{e}} + \\frac{U t}{k_{e}}$"
          },
          "metadata": {},
          "execution_count": 10
        }
      ]
    },
    {
      "cell_type": "markdown",
      "metadata": {
        "id": "zQQBp59Y2Cmi"
      },
      "source": [
        "The last step is ploting of the rotation angle function."
      ]
    },
    {
      "cell_type": "code",
      "metadata": {
        "colab": {
          "base_uri": "https://localhost:8080/",
          "height": 503
        },
        "id": "BIN2S_RgZj6q",
        "outputId": "26fa8fa4-942c-49e2-fa17-4390de0a5293"
      },
      "source": [
        "theta_num = ode_sol_theta.subs({k_e : 0.5, T_m : 0.08, U : 8})                  # numerical values substitutin\n",
        "plot(theta_num.rhs,(t, 0, 0.5), line_color='red',\n",
        "     title='Rotation angle',\n",
        "     xlabel = 'time,[sec]', ylabel = 'angle, [rad]')                            # plot function at time [0; 0.5]"
      ],
      "execution_count": null,
      "outputs": [
        {
          "output_type": "display_data",
          "data": {
            "text/plain": [
              "<Figure size 640x480 with 1 Axes>"
            ],
            "image/png": "[encoded data removed]"
          },
          "metadata": {}
        },
        {
          "output_type": "execute_result",
          "data": {
            "text/plain": [
              "<sympy.plotting.backends.matplotlibbackend.matplotlib.MatplotlibBackend at 0x7c269d17e5d0>"
            ]
          },
          "metadata": {},
          "execution_count": 11
        }
      ]
    }
  ]
}