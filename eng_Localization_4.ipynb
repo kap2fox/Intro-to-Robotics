{
  "nbformat": 4,
  "nbformat_minor": 0,
  "metadata": {
    "colab": {
      "provenance": [],
      "authorship_tag": "ABX9TyNnWltIAYk7egID8ZrT+zMt",
      "include_colab_link": true
    },
    "kernelspec": {
      "name": "python3",
      "display_name": "Python 3"
    },
    "language_info": {
      "name": "python"
    }
  },
  "cells": [
    {
      "cell_type": "markdown",
      "metadata": {
        "id": "view-in-github",
        "colab_type": "text"
      },
      "source": [
        "<a href=\"https://colab.research.google.com/github/kap2fox/Intro-to-Robotics/blob/main/eng_Localization_4.ipynb\" target=\"_parent\"><img src=\"https://colab.research.google.com/assets/colab-badge.svg\" alt=\"Open In Colab\"/></a>"
      ]
    },
    {
      "cell_type": "markdown",
      "source": [
        "#Differential drive robot localization\n",
        "Once we've obtained a motor rotation model and related the control voltage to the motor rotation angle, we can begin modeling simple robots. For the simplest case, we can assume that the motor rotation angle sensors are free of disturbances. Next, we consider a two-wheeled robot that determines its position in space from the motor rotation angles and is described by 2D coordinates and rotation angle. We'll need the *numpy* module for working with arrays of values, *matplotlib* for plotting results, *scipy* for numerically solving differential equations, and *math* for mathematical nonlinear functions."
      ],
      "metadata": {
        "id": "LZiHLnzvd3Yr"
      }
    },
    {
      "cell_type": "code",
      "metadata": {
        "id": "Q-2KAS9LcCU4"
      },
      "source": [
        "import numpy as np                                  # array module\n",
        "import matplotlib.pyplot as plt                     # visualization module\n",
        "from scipy.integrate import odeint                  # ODE module\n",
        "import math as m                                    # math function module"
      ],
      "execution_count": 1,
      "outputs": []
    },
    {
      "cell_type": "markdown",
      "source": [
        "To define the robot, only two parameters are required: the distance between the wheels and the wheel radius. The motor parameters are taken from the identification results, and the time domain and number of simulation steps are set to 15 seconds."
      ],
      "metadata": {
        "id": "b0loNHTheeHB"
      }
    },
    {
      "cell_type": "code",
      "metadata": {
        "id": "L4ariMUoc7AC"
      },
      "source": [
        "T_m = 0.08                                          # electromechanical time constant\n",
        "k_e = 0.5                                           # torque constant\n",
        "n = 15001                                           # modeling samples\n",
        "t = np.linspace(0,15,n)                             # timeline\n",
        "B = 0.19                                            # base value\n",
        "r = 0.028                                           # wheel radius"
      ],
      "execution_count": 3,
      "outputs": []
    },
    {
      "cell_type": "markdown",
      "source": [
        "To simulate the motor operation, a model from previous experiments is used, the output of which will be the angular velocity and rotation angle of the motor."
      ],
      "metadata": {
        "id": "cZNfwkokerYM"
      }
    },
    {
      "cell_type": "code",
      "metadata": {
        "id": "-TgAVbAsdEZJ"
      },
      "source": [
        "def motor(state,t,u):\n",
        "    speed, angle = state                            # motor state\n",
        "    state_dt = [-speed/T_m + u/ (T_m * k_e), speed ]# its derivative\n",
        "    return state_dt"
      ],
      "execution_count": 4,
      "outputs": []
    },
    {
      "cell_type": "markdown",
      "metadata": {
        "id": "75UQBQPkdFMh"
      },
      "source": [
        "For two-wheeled robot models with differential drive or \"differential drive robot\", you will need a control voltage for each motor, as well as arrays for the distance traveled, the robot's rotation angle, and the coordinates."
      ]
    },
    {
      "cell_type": "code",
      "metadata": {
        "id": "Kg8k1IVDdIDc"
      },
      "source": [
        "state_l = [0 , 0]                                   # left motor state\n",
        "state_r = [0 , 0]                                   # right motor state\n",
        "control_l = np.zeros(n)                             # left motor control\n",
        "control_r = np.zeros(n)                             # right motor control\n",
        "theta_l = np.zeros(n)                               # left motor angle\n",
        "theta_r = np.zeros(n)                               # right motor angle\n",
        "x = np.zeros(n)                                     # X coordinate array\n",
        "y = np.zeros(n)                                     # Y coordinate array\n",
        "path = np.zeros(n)                                  # path array\n",
        "phi = np.zeros(n)                                   # heading angle array\n"
      ],
      "execution_count": 32,
      "outputs": []
    },
    {
      "cell_type": "markdown",
      "source": [
        "The main loop, as with the PID controller, will include calculating the motor rotation angles and robot coordinates. To calculate the robot coordinates, the following system of equations is required, where $L$ is the robot's distance traveled and $\\psi$ is the robot's heading angle:\n",
        "$$\n",
        "\\left\\{\n",
        "\\begin{array}\\\\\n",
        "x = x + \\Delta L \\, \\cos(\\psi), \\\\\n",
        "y = y + \\Delta L \\, \\sin(\\psi), \\\\\n",
        "\\psi = (\\theta_r-\\theta_l)\\frac{r}{B}.\n",
        "\\end{array} \\tag{6}\n",
        "\\right.\n",
        "$$\n",
        "For the simple case of a two-wheeled robot, you can apply different voltages to the motors and observe a circular trajectory starting at [0, 0]."
      ],
      "metadata": {
        "id": "v6Z7O7ZDfGZm"
      }
    },
    {
      "cell_type": "code",
      "metadata": {
        "id": "kMREmxsKkhy6",
        "colab": {
          "base_uri": "https://localhost:8080/",
          "height": 501
        },
        "outputId": "3ffdccf6-ff08-4ea5-bcff-50bc3444cc0e"
      },
      "source": [
        "for i in range(1,n):\n",
        "\n",
        "    path[i] = (theta_r[i-1] + theta_l[i-1]) * r / 2                             # path calculation for this cycle\n",
        "    phi[i] = (theta_r[i-1] - theta_l[i-1]) * r / B                              # heading angle of the robot calculation\n",
        "    x[i] = x[i-1] + (path[i]-path[i-1]) * m.cos(phi[i])                         # X coordinate calculation\n",
        "    y[i] = y[i-1] + (path[i]-path[i-1]) * m.sin(phi[i])                         # Y coordinate calculation\n",
        "\n",
        "    control_l [i] = 2                                                           # left motor control\n",
        "    control_r [i] = 1                                                         # right motor control\n",
        "\n",
        "    motor_l = odeint(motor, state_l,[t[i-1],t[i]],args=(control_l [i],))        # left motor simulation\n",
        "    state_l = motor_l[1,:]                                                      # left motor state\n",
        "    theta_l[i] = motor_l[1,1]                                                   # left motor angle\n",
        "    motor_r = odeint(motor, state_r,[t[i-1],t[i]],args=(control_r [i],))        # right motor simulation\n",
        "    state_r = motor_r[1,:]                                                      # right motor state\n",
        "    theta_r[i] = motor_r[1,1]                                                   # right motor angle\n",
        "\n",
        "plt.plot(x, y)\n",
        "print(x)\n",
        "print(y)                                                                 # visualization of the trajectory"
      ],
      "execution_count": 33,
      "outputs": [
        {
          "output_type": "stream",
          "name": "stdout",
          "text": [
            "[ 0.00000000e+00  0.00000000e+00  5.22791388e-07 ... -2.70961319e-01\n",
            " -2.70987384e-01 -2.71013426e-01]\n",
            "[ 0.00000000e+00  0.00000000e+00 -9.59009006e-13 ... -3.73473893e-01\n",
            " -3.73394040e-01 -3.73314178e-01]\n"
          ]
        },
        {
          "output_type": "display_data",
          "data": {
            "text/plain": [
              "<Figure size 640x480 with 1 Axes>"
            ],
            "image/png": "[encoded data removed]"
          },
          "metadata": {}
        }
      ]
    }
  ]
}