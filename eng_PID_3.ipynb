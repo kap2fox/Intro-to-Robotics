{
  "nbformat": 4,
  "nbformat_minor": 0,
  "metadata": {
    "colab": {
      "name": "eng_PID_3.ipynb",
      "provenance": [],
      "authorship_tag": "ABX9TyMJw+qsuTbBwP1ILmQXpRD6",
      "include_colab_link": true
    },
    "kernelspec": {
      "name": "python3",
      "display_name": "Python 3"
    },
    "language_info": {
      "name": "python"
    }
  },
  "cells": [
    {
      "cell_type": "markdown",
      "metadata": {
        "id": "view-in-github",
        "colab_type": "text"
      },
      "source": [
        "<a href=\"https://colab.research.google.com/github/kap2fox/Intro-to-Robotics/blob/main/eng_PID_3.ipynb\" target=\"_parent\"><img src=\"https://colab.research.google.com/assets/colab-badge.svg\" alt=\"Open In Colab\"/></a>"
      ]
    },
    {
      "cell_type": "markdown",
      "metadata": {
        "id": "W8DVGqwMpDFS"
      },
      "source": [
        "#PID with Python\n",
        "This section is devoted to modeling engine operation when adding control laws. At each step of the program operation, just as in a real robot, the control voltage is calculated. How to calculate the control voltage is an extremely broad question that is addressed by automatic control theory. The basic control algorithm is the proportional-integral-derivative controller, or PID controller. Its software implementation is discussed below."
      ]
    },
    {
      "cell_type": "code",
      "metadata": {
        "id": "ZAhgEGazpFBn"
      },
      "source": [
        "import numpy as np                            # array module\n",
        "import matplotlib.pyplot as plt               # vizualization\n",
        "from scipy.integrate import odeint            # numerical ODE solver"
      ],
      "execution_count": 1,
      "outputs": []
    },
    {
      "cell_type": "markdown",
      "metadata": {
        "id": "GtKMDgWGpHi7"
      },
      "source": [
        "First, we need to define the engine model parameters. Last time we used time values recorded in a file. This time we'll need to define the time space ourselves. The *linspace* function from the *numpy* module is suitable for this purpose."
      ]
    },
    {
      "cell_type": "code",
      "metadata": {
        "id": "VCSxmDPrpIEb"
      },
      "source": [
        "T_m = 0.08                                   # electromechanical time constant\n",
        "k_e = 0.5                                    # torque constant\n",
        "n = 5001                                     # modeling samples\n",
        "t = np.linspace(0,5,n)                       # timeline"
      ],
      "execution_count": 2,
      "outputs": []
    },
    {
      "cell_type": "markdown",
      "metadata": {
        "id": "N7UIDPw6pNEX"
      },
      "source": [
        "Next, it is necessary to define the motor model by analogy with the previous lecture using system of equations 5, with the difference that now the control voltage value will be passed to the model at each simulation step:\n",
        "$$\n",
        "\\left\\{\n",
        "    \\begin{array}\\\\\n",
        "        \\dot\\omega=\\frac{U}{T_m k_e}-\\frac{\\omega}{T_m}, \\\\\n",
        "        \\dot\\theta=\\omega.\n",
        "    \\end{array} \\tag{5}\n",
        "\\right.\n",
        "$$"
      ]
    },
    {
      "cell_type": "code",
      "metadata": {
        "id": "MFjhsy_jpNni"
      },
      "source": [
        "def motor(state,t,u):\n",
        "    speed, angle = state                                # обозначение состояния двигателя как скорости и угла поворота\n",
        "    state_dt = [-speed/T_m + u/ (T_m * k_e), speed ]    # задание производной состояния двигателя\n",
        "    return state_dt"
      ],
      "execution_count": 3,
      "outputs": []
    },
    {
      "cell_type": "markdown",
      "metadata": {
        "id": "lo6TYxRKpQMR"
      },
      "source": [
        "For modeling the operation of a PID controller, it will be necessary to define variables and arrays of controller values. In order to be able to examine the behavior of each of the controller components, arrays of zeros need to be created for each of them using the *zeros* function."
      ]
    },
    {
      "cell_type": "code",
      "metadata": {
        "id": "edPN5rPspWWs"
      },
      "source": [
        "Kp = 1                                                   # proportional coefficient\n",
        "Ki = 0.3                                                 # integral coefficient\n",
        "Kd = 0.2                                                 # differential coefficient\n",
        "P= np.zeros(n)                                           # proportional part\n",
        "I = np.zeros(n)                                          # integral part\n",
        "D = np.zeros(n)                                          # dufferential part\n",
        "e = np.zeros(n)                                          # error array\n",
        "u = np.zeros(n)                                          # control power\n",
        "theta = np.zeros(n)                                      # angle array\n",
        "r = np.zeros(n)                                          # desired angle\n",
        "r[0:n] = 5                                               # 5 radian desired angle\n",
        "init = [0 , 0]                                           # Initial conditions"
      ],
      "execution_count": 4,
      "outputs": []
    },
    {
      "cell_type": "markdown",
      "metadata": {
        "id": "RwtoDW-Bpexl"
      },
      "source": [
        "Now we need to create a loop for the number of simulation steps and calculate the motor state values ​​at each iteration. For this, we'll use the *odeint* function, but we'll only simulate one step *(t[i-1],t[i])*. Each step will start from the previous non-zero initial conditions *init* and take into account the current control voltage *u*."
      ]
    },
    {
      "cell_type": "code",
      "metadata": {
        "colab": {
          "base_uri": "https://localhost:8080/",
          "height": 448
        },
        "id": "C2Fz50JIlsh0",
        "outputId": "5fc733eb-3b96-4316-ca5d-f6edcabbe529"
      },
      "source": [
        "for i in range(1,n):\n",
        "    ts = [t[i-1],t[i]]                                   # modeling time\n",
        "    y = odeint(motor,init,ts,args=(u[i-1],))             # rotation angle and speed\n",
        "    #odeint return two values in a time t[i-1] и t[i]\n",
        "    init = y[1,:]                                        # save the last value of angle\n",
        "    theta[i] = y[1,1]                                    # current angle\n",
        "    e[i] = r[i] - theta[i]                               # error calculation\n",
        "    dt = t[i] - t[i-1]                                   # time calculation\n",
        "    P[i] = Kp * e[i]                                     # proportional part\n",
        "    I[i] = I[i-1] + Ki * e[i] * dt                       # integral part with Euler method\n",
        "    D[i] = Kd * (theta[i]-theta[i-1])/dt                 # differential part with finite difference method\n",
        "    u[i] = P[i] + I[i] + D[i]                            # power calculation\n",
        "    if u[i] > 8:\n",
        "            u[i] = 8\n",
        "    if u[i] < -8:\n",
        "            u[i] = -8                                    # limit power maximum voltage\n",
        "\n",
        "plt.plot(t, theta,'r-')                                  # plot graph\n",
        "plt.plot(t, r,'b--')                                     # vizualization"
      ],
      "execution_count": 5,
      "outputs": [
        {
          "output_type": "execute_result",
          "data": {
            "text/plain": [
              "[<matplotlib.lines.Line2D at 0x7b932c727080>]"
            ]
          },
          "metadata": {},
          "execution_count": 5
        },
        {
          "output_type": "display_data",
          "data": {
            "text/plain": [
              "<Figure size 640x480 with 1 Axes>"
            ],
            "image/png": "[encoded data removed]"
          },
          "metadata": {}
        }
      ]
    }
  ]
}